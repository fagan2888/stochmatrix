{
 "metadata": {
  "name": "",
  "signature": "sha256:65b49826c0e1ffe120a2201b731fe9a4170da90c87227786df49e0f5fdb1880f"
 },
 "nbformat": 3,
 "nbformat_minor": 0,
 "worksheets": [
  {
   "cells": [
    {
     "cell_type": "heading",
     "level": 1,
     "metadata": {},
     "source": [
      "Examples"
     ]
    },
    {
     "cell_type": "code",
     "collapsed": false,
     "input": [
      "from stochmatrix import StochMatrix"
     ],
     "language": "python",
     "metadata": {},
     "outputs": [],
     "prompt_number": 1
    },
    {
     "cell_type": "heading",
     "level": 2,
     "metadata": {},
     "source": [
      "Simple example"
     ]
    },
    {
     "cell_type": "code",
     "collapsed": false,
     "input": [
      "import numpy as np"
     ],
     "language": "python",
     "metadata": {},
     "outputs": [],
     "prompt_number": 2
    },
    {
     "cell_type": "code",
     "collapsed": false,
     "input": [
      "# Taken from www.math.wustl.edu/~feres/Math450Lect04.pdf\n",
      "P = np.zeros((10, 10))\n",
      "P[[0, 0], [0, 2]] = 1./2\n",
      "P[1, 1], P[1, 6] = 1./3, 2./3\n",
      "P[2, 0] = 1\n",
      "P[3, 4] = 1\n",
      "P[[4, 4, 4], [3, 4, 8]] = 1./3\n",
      "P[5, 5] = 1\n",
      "P[6, 6], P[6, 8] = 1./4, 3./4\n",
      "P[[7, 7, 7, 7], [2, 3, 7, 9]] = 1./4\n",
      "P[8, 1] = 1\n",
      "P[[9, 9, 9], [1, 4, 9]] = 1./3"
     ],
     "language": "python",
     "metadata": {},
     "outputs": [],
     "prompt_number": 3
    },
    {
     "cell_type": "code",
     "collapsed": false,
     "input": [
      "np.get_printoptions()"
     ],
     "language": "python",
     "metadata": {},
     "outputs": [
      {
       "metadata": {},
       "output_type": "pyout",
       "prompt_number": 4,
       "text": [
        "{'edgeitems': 3,\n",
        " 'formatter': None,\n",
        " 'infstr': 'inf',\n",
        " 'linewidth': 75,\n",
        " 'nanstr': 'nan',\n",
        " 'precision': 8,\n",
        " 'suppress': False,\n",
        " 'threshold': 1000}"
       ]
      }
     ],
     "prompt_number": 4
    },
    {
     "cell_type": "code",
     "collapsed": false,
     "input": [
      "np.set_printoptions(precision=3)"
     ],
     "language": "python",
     "metadata": {},
     "outputs": [],
     "prompt_number": 5
    },
    {
     "cell_type": "code",
     "collapsed": false,
     "input": [
      "print P"
     ],
     "language": "python",
     "metadata": {},
     "outputs": [
      {
       "output_type": "stream",
       "stream": "stdout",
       "text": [
        "[[ 0.5    0.     0.5    0.     0.     0.     0.     0.     0.     0.   ]\n",
        " [ 0.     0.333  0.     0.     0.     0.     0.667  0.     0.     0.   ]\n",
        " [ 1.     0.     0.     0.     0.     0.     0.     0.     0.     0.   ]\n",
        " [ 0.     0.     0.     0.     1.     0.     0.     0.     0.     0.   ]\n",
        " [ 0.     0.     0.     0.333  0.333  0.     0.     0.     0.333  0.   ]\n",
        " [ 0.     0.     0.     0.     0.     1.     0.     0.     0.     0.   ]\n",
        " [ 0.     0.     0.     0.     0.     0.     0.25   0.     0.75   0.   ]\n",
        " [ 0.     0.     0.25   0.25   0.     0.     0.     0.25   0.     0.25 ]\n",
        " [ 0.     1.     0.     0.     0.     0.     0.     0.     0.     0.   ]\n",
        " [ 0.     0.333  0.     0.     0.333  0.     0.     0.     0.     0.333]]\n"
       ]
      }
     ],
     "prompt_number": 6
    },
    {
     "cell_type": "markdown",
     "metadata": {},
     "source": [
      "`StochMatrix` class"
     ]
    },
    {
     "cell_type": "code",
     "collapsed": false,
     "input": [
      "P = StochMatrix(P)"
     ],
     "language": "python",
     "metadata": {},
     "outputs": [],
     "prompt_number": 7
    },
    {
     "cell_type": "markdown",
     "metadata": {},
     "source": [
      "Whether `P` is irreducible"
     ]
    },
    {
     "cell_type": "code",
     "collapsed": false,
     "input": [
      "P.is_irreducible"
     ],
     "language": "python",
     "metadata": {},
     "outputs": [
      {
       "metadata": {},
       "output_type": "pyout",
       "prompt_number": 8,
       "text": [
        "False"
       ]
      }
     ],
     "prompt_number": 8
    },
    {
     "cell_type": "markdown",
     "metadata": {},
     "source": [
      "Communication classes (strongly connected components) of `P`"
     ]
    },
    {
     "cell_type": "code",
     "collapsed": false,
     "input": [
      "P.comm_classes()"
     ],
     "language": "python",
     "metadata": {},
     "outputs": [
      {
       "metadata": {},
       "output_type": "pyout",
       "prompt_number": 9,
       "text": [
        "[[0, 2], [1, 6, 8], [3, 4], [5], [9], [7]]"
       ]
      }
     ],
     "prompt_number": 9
    },
    {
     "cell_type": "markdown",
     "metadata": {},
     "source": [
      "Recurrent classes of `P`"
     ]
    },
    {
     "cell_type": "code",
     "collapsed": false,
     "input": [
      "P.rec_classes()"
     ],
     "language": "python",
     "metadata": {},
     "outputs": [
      {
       "metadata": {},
       "output_type": "pyout",
       "prompt_number": 10,
       "text": [
        "[[0, 2], [1, 6, 8], [5]]"
       ]
      }
     ],
     "prompt_number": 10
    },
    {
     "cell_type": "markdown",
     "metadata": {},
     "source": [
      "Recurrent states of `P`"
     ]
    },
    {
     "cell_type": "code",
     "collapsed": false,
     "input": [
      "rec_states = [i for rec_class in P.rec_classes() for i in rec_class]"
     ],
     "language": "python",
     "metadata": {},
     "outputs": [],
     "prompt_number": 11
    },
    {
     "cell_type": "code",
     "collapsed": false,
     "input": [
      "print rec_states"
     ],
     "language": "python",
     "metadata": {},
     "outputs": [
      {
       "output_type": "stream",
       "stream": "stdout",
       "text": [
        "[0, 2, 1, 6, 8, 5]\n"
       ]
      }
     ],
     "prompt_number": 12
    },
    {
     "cell_type": "markdown",
     "metadata": {},
     "source": [
      "Transient states of `P`"
     ]
    },
    {
     "cell_type": "code",
     "collapsed": false,
     "input": [
      "trans_states = [i for i in range(10) if i not in rec_states]"
     ],
     "language": "python",
     "metadata": {},
     "outputs": [],
     "prompt_number": 13
    },
    {
     "cell_type": "code",
     "collapsed": false,
     "input": [
      "print trans_states"
     ],
     "language": "python",
     "metadata": {},
     "outputs": [
      {
       "output_type": "stream",
       "stream": "stdout",
       "text": [
        "[3, 4, 7, 9]\n"
       ]
      }
     ],
     "prompt_number": 14
    },
    {
     "cell_type": "markdown",
     "metadata": {},
     "source": [
      "Canonical form of `P`"
     ]
    },
    {
     "cell_type": "code",
     "collapsed": false,
     "input": [
      "permutation = rec_states + trans_states"
     ],
     "language": "python",
     "metadata": {},
     "outputs": [],
     "prompt_number": 15
    },
    {
     "cell_type": "code",
     "collapsed": false,
     "input": [
      "permutation"
     ],
     "language": "python",
     "metadata": {},
     "outputs": [
      {
       "metadata": {},
       "output_type": "pyout",
       "prompt_number": 16,
       "text": [
        "[0, 2, 1, 6, 8, 5, 3, 4, 7, 9]"
       ]
      }
     ],
     "prompt_number": 16
    },
    {
     "cell_type": "code",
     "collapsed": false,
     "input": [
      "print P[permutation, :][:, permutation]"
     ],
     "language": "python",
     "metadata": {},
     "outputs": [
      {
       "output_type": "stream",
       "stream": "stdout",
       "text": [
        "[[ 0.5    0.5    0.     0.     0.     0.     0.     0.     0.     0.   ]\n",
        " [ 1.     0.     0.     0.     0.     0.     0.     0.     0.     0.   ]\n",
        " [ 0.     0.     0.333  0.667  0.     0.     0.     0.     0.     0.   ]\n",
        " [ 0.     0.     0.     0.25   0.75   0.     0.     0.     0.     0.   ]\n",
        " [ 0.     0.     1.     0.     0.     0.     0.     0.     0.     0.   ]\n",
        " [ 0.     0.     0.     0.     0.     1.     0.     0.     0.     0.   ]\n",
        " [ 0.     0.     0.     0.     0.     0.     0.     1.     0.     0.   ]\n",
        " [ 0.     0.     0.     0.     0.333  0.     0.333  0.333  0.     0.   ]\n",
        " [ 0.     0.25   0.     0.     0.     0.     0.25   0.     0.25   0.25 ]\n",
        " [ 0.     0.     0.333  0.     0.     0.     0.     0.333  0.     0.333]]\n"
       ]
      }
     ],
     "prompt_number": 17
    },
    {
     "cell_type": "markdown",
     "metadata": {},
     "source": [
      "Decomposing `P` to irreducible submatrices"
     ]
    },
    {
     "cell_type": "code",
     "collapsed": false,
     "input": [
      "for i, rec_class in enumerate(P.rec_classes()):\n",
      "    print 'P_{0} ='.format(i)\n",
      "    print P[rec_class, :][:, rec_class]"
     ],
     "language": "python",
     "metadata": {},
     "outputs": [
      {
       "output_type": "stream",
       "stream": "stdout",
       "text": [
        "P_0 =\n",
        "[[ 0.5  0.5]\n",
        " [ 1.   0. ]]\n",
        "P_1 =\n",
        "[[ 0.333  0.667  0.   ]\n",
        " [ 0.     0.25   0.75 ]\n",
        " [ 1.     0.     0.   ]]\n",
        "P_2 =\n",
        "[[ 1.]]\n"
       ]
      }
     ],
     "prompt_number": 18
    },
    {
     "cell_type": "code",
     "collapsed": false,
     "input": [],
     "language": "python",
     "metadata": {},
     "outputs": [],
     "prompt_number": 18
    }
   ],
   "metadata": {}
  }
 ]
}