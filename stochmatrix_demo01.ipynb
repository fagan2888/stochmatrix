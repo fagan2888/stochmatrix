{
 "metadata": {
  "name": "",
  "signature": "sha256:ee8f767a8e46efd785cc698a84a8da8ddbae668b67ba53ebcc2ad59013f2a6de"
 },
 "nbformat": 3,
 "nbformat_minor": 0,
 "worksheets": [
  {
   "cells": [
    {
     "cell_type": "heading",
     "level": 1,
     "metadata": {},
     "source": [
      "stochmatrix: Illustration"
     ]
    },
    {
     "cell_type": "code",
     "collapsed": false,
     "input": [
      "from __future__ import division\n",
      "import numpy as np\n",
      "from stochmatrix import StochMatrix, stationary_dists, gth_solve"
     ],
     "language": "python",
     "metadata": {},
     "outputs": [],
     "prompt_number": 1
    },
    {
     "cell_type": "heading",
     "level": 2,
     "metadata": {},
     "source": [
      "`gth_solve`"
     ]
    },
    {
     "cell_type": "markdown",
     "metadata": {},
     "source": [
      "The routine `mc_compute_stationary` in the current `mc_tools` is not very efficient\n",
      "in that it calls a routine for the general eigenvalue problem\n",
      "despite the fact that we know that the matrix in consideration has an eigenvalue `1`\n",
      "and we look for an eigenvector associated to it.\n",
      "\n",
      "The routine `gth_solve` directly solves for a nontrivial solution to\n",
      "the linear system $x (P - I) = 0$ for an *irreducible* stochastic matrix $P$,\n",
      "based on an algorithm called the Grassmann-Taksar-Heyman (GTH) algorithm,\n",
      "a numerically stable variant of Gaussian elimination.\n",
      "It does not involve subtraction,\n",
      "and it turns out that it is accurate enough to give almost correct stationary distributions\n",
      "even for KMR matrices."
     ]
    },
    {
     "cell_type": "code",
     "collapsed": false,
     "input": [
      "from test_stochmatrix import KMR_Markov_matrix_sequential "
     ],
     "language": "python",
     "metadata": {},
     "outputs": [],
     "prompt_number": 2
    },
    {
     "cell_type": "code",
     "collapsed": false,
     "input": [
      "P = KMR_Markov_matrix_sequential(N=27, p=1./3, epsilon=1e-2)"
     ],
     "language": "python",
     "metadata": {},
     "outputs": [],
     "prompt_number": 3
    },
    {
     "cell_type": "code",
     "collapsed": false,
     "input": [
      "x_P = gth_solve(P-np.identity(28))"
     ],
     "language": "python",
     "metadata": {},
     "outputs": [],
     "prompt_number": 4
    },
    {
     "cell_type": "code",
     "collapsed": false,
     "input": [
      "print x_P"
     ],
     "language": "python",
     "metadata": {},
     "outputs": [
      {
       "output_type": "stream",
       "stream": "stdout",
       "text": [
        "[  1.78461892e-21   2.42134225e-22   1.58178137e-23   6.62387508e-25\n",
        "   1.99714827e-26   4.61652363e-28   8.50615744e-30   1.28233529e-31\n",
        "   1.61097399e-33   1.70901763e-35   6.12170115e-33   1.88270136e-30\n",
        "   4.99543428e-28   1.14702856e-25   2.28258684e-23   3.93670144e-21\n",
        "   5.87552690e-19   7.56560493e-17   8.36419656e-15   7.88435581e-13\n",
        "   6.27594722e-11   4.16304499e-09   2.25939806e-07   9.77435246e-06\n",
        "   3.24182690e-04   7.74148263e-03   1.18504234e-01   8.73420096e-01]\n"
       ]
      }
     ],
     "prompt_number": 5
    },
    {
     "cell_type": "code",
     "collapsed": false,
     "input": [
      "print np.dot(x_P, P)"
     ],
     "language": "python",
     "metadata": {},
     "outputs": [
      {
       "output_type": "stream",
       "stream": "stdout",
       "text": [
        "[  1.78461892e-21   2.42134225e-22   1.58178137e-23   6.62387508e-25\n",
        "   1.99714827e-26   4.61652363e-28   8.50615744e-30   1.28233529e-31\n",
        "   1.61097399e-33   1.70901763e-35   6.12170115e-33   1.88270136e-30\n",
        "   4.99543428e-28   1.14702856e-25   2.28258684e-23   3.93670144e-21\n",
        "   5.87552690e-19   7.56560493e-17   8.36419656e-15   7.88435581e-13\n",
        "   6.27594722e-11   4.16304499e-09   2.25939806e-07   9.77435246e-06\n",
        "   3.24182690e-04   7.74148263e-03   1.18504234e-01   8.73420096e-01]\n"
       ]
      }
     ],
     "prompt_number": 6
    },
    {
     "cell_type": "code",
     "collapsed": false,
     "input": [
      "np.linalg.norm(np.dot(x_P, P)-x_P, ord=np.inf)"
     ],
     "language": "python",
     "metadata": {},
     "outputs": [
      {
       "metadata": {},
       "output_type": "pyout",
       "prompt_number": 7,
       "text": [
        "1.3877787807814457e-17"
       ]
      }
     ],
     "prompt_number": 7
    },
    {
     "cell_type": "code",
     "collapsed": false,
     "input": [
      "Q = KMR_Markov_matrix_sequential(N=3, p=1./3, epsilon=1e-14)"
     ],
     "language": "python",
     "metadata": {},
     "outputs": [],
     "prompt_number": 8
    },
    {
     "cell_type": "code",
     "collapsed": false,
     "input": [
      "print Q"
     ],
     "language": "python",
     "metadata": {},
     "outputs": [
      {
       "output_type": "stream",
       "stream": "stdout",
       "text": [
        "[[  1.00000000e+00   5.00000000e-15   0.00000000e+00   0.00000000e+00]\n",
        " [  3.33333333e-01   4.99600361e-15   6.66666667e-01   0.00000000e+00]\n",
        " [  0.00000000e+00   3.33333333e-15   6.66666667e-01   3.33333333e-01]\n",
        " [  0.00000000e+00   0.00000000e+00   5.00000000e-15   1.00000000e+00]]\n"
       ]
      }
     ],
     "prompt_number": 9
    },
    {
     "cell_type": "code",
     "collapsed": false,
     "input": [
      "x_Q = gth_solve(Q-np.identity(4))"
     ],
     "language": "python",
     "metadata": {},
     "outputs": [],
     "prompt_number": 10
    },
    {
     "cell_type": "code",
     "collapsed": false,
     "input": [
      "print x_Q"
     ],
     "language": "python",
     "metadata": {},
     "outputs": [
      {
       "output_type": "stream",
       "stream": "stdout",
       "text": [
        "[  5.00000000e-15   7.50000000e-29   1.50000000e-14   1.00000000e+00]\n"
       ]
      }
     ],
     "prompt_number": 11
    },
    {
     "cell_type": "code",
     "collapsed": false,
     "input": [
      "print np.dot(x_Q, Q)"
     ],
     "language": "python",
     "metadata": {},
     "outputs": [
      {
       "output_type": "stream",
       "stream": "stdout",
       "text": [
        "[  5.00000000e-15   7.50000000e-29   1.50000000e-14   1.00000000e+00]\n"
       ]
      }
     ],
     "prompt_number": 12
    },
    {
     "cell_type": "code",
     "collapsed": false,
     "input": [
      "np.dot(x_Q, Q) == x_Q"
     ],
     "language": "python",
     "metadata": {},
     "outputs": [
      {
       "metadata": {},
       "output_type": "pyout",
       "prompt_number": 13,
       "text": [
        "array([ True,  True,  True,  True], dtype=bool)"
       ]
      }
     ],
     "prompt_number": 13
    },
    {
     "cell_type": "markdown",
     "metadata": {},
     "source": [
      "In fact, in solving $x A = 0$, where $A = P - I$,\n",
      "the algorithm only uses the values of the off-diagonal entries of $A$\n",
      "under the assumption that $a_{ii} = \\sum_{j \\neq i} a_{ij}$.\n",
      "It is therefore irrelevant whether to pass $P - I$ or $P$ to `gth_solve`:"
     ]
    },
    {
     "cell_type": "code",
     "collapsed": false,
     "input": [
      "gth_solve(np.array([[0.4, 0.6], [0.2, 0.8]])-np.identity(2))"
     ],
     "language": "python",
     "metadata": {},
     "outputs": [
      {
       "metadata": {},
       "output_type": "pyout",
       "prompt_number": 14,
       "text": [
        "array([ 0.25,  0.75])"
       ]
      }
     ],
     "prompt_number": 14
    },
    {
     "cell_type": "code",
     "collapsed": false,
     "input": [
      "gth_solve(np.array([[0.4, 0.6], [0.2, 0.8]]))"
     ],
     "language": "python",
     "metadata": {},
     "outputs": [
      {
       "metadata": {},
       "output_type": "pyout",
       "prompt_number": 15,
       "text": [
        "array([ 0.25,  0.75])"
       ]
      }
     ],
     "prompt_number": 15
    },
    {
     "cell_type": "code",
     "collapsed": false,
     "input": [
      "np.all(gth_solve(P) == gth_solve(P-np.identity(28)))"
     ],
     "language": "python",
     "metadata": {},
     "outputs": [
      {
       "metadata": {},
       "output_type": "pyout",
       "prompt_number": 16,
       "text": [
        "True"
       ]
      }
     ],
     "prompt_number": 16
    },
    {
     "cell_type": "heading",
     "level": 2,
     "metadata": {},
     "source": [
      "`StochMatrix`"
     ]
    },
    {
     "cell_type": "markdown",
     "metadata": {},
     "source": [
      "The routine `gth_solve` above is designed to deal only with irreducible matrices.\n",
      "To find all stationary distributions of a reducible stochastic matrix,\n",
      "we need to decompose it into irreducible components.\n",
      "It is what the class `StochMatrix` does.\n",
      "Implemented as a subclass of `numpy.ndarray`,\n",
      "it adds to the input matrix a structure as a directed graph\n",
      "to compute its communication classes (strongly connected components)\n",
      "and recurrent classes (closed communication classes).\n",
      "Internally, it calls\n",
      "[`scipy.sparse.csgraph.connected_components`](http://docs.scipy.org/doc/scipy/reference/generated/scipy.sparse.csgraph.connected_components.html);\n",
      "see also\n",
      "[Strongly Connected Components | timl.blog](http://www.timl.id.au/?p=327)."
     ]
    },
    {
     "cell_type": "code",
     "collapsed": false,
     "input": [
      "A = StochMatrix([[1, 0], [0, 1]])"
     ],
     "language": "python",
     "metadata": {},
     "outputs": [],
     "prompt_number": 17
    },
    {
     "cell_type": "code",
     "collapsed": false,
     "input": [
      "A"
     ],
     "language": "python",
     "metadata": {},
     "outputs": [
      {
       "metadata": {},
       "output_type": "pyout",
       "prompt_number": 18,
       "text": [
        "StochMatrix([[1, 0],\n",
        "             [0, 1]])"
       ]
      }
     ],
     "prompt_number": 18
    },
    {
     "cell_type": "code",
     "collapsed": false,
     "input": [
      "print A"
     ],
     "language": "python",
     "metadata": {},
     "outputs": [
      {
       "output_type": "stream",
       "stream": "stdout",
       "text": [
        "[[1 0]\n",
        " [0 1]]\n"
       ]
      }
     ],
     "prompt_number": 19
    },
    {
     "cell_type": "code",
     "collapsed": false,
     "input": [
      "StochMatrix.__bases__"
     ],
     "language": "python",
     "metadata": {},
     "outputs": [
      {
       "metadata": {},
       "output_type": "pyout",
       "prompt_number": 20,
       "text": [
        "(numpy.ndarray,)"
       ]
      }
     ],
     "prompt_number": 20
    },
    {
     "cell_type": "code",
     "collapsed": false,
     "input": [
      "A.is_irreducible"
     ],
     "language": "python",
     "metadata": {},
     "outputs": [
      {
       "metadata": {},
       "output_type": "pyout",
       "prompt_number": 21,
       "text": [
        "False"
       ]
      }
     ],
     "prompt_number": 21
    },
    {
     "cell_type": "code",
     "collapsed": false,
     "input": [
      "A.num_comm_classes"
     ],
     "language": "python",
     "metadata": {},
     "outputs": [
      {
       "metadata": {},
       "output_type": "pyout",
       "prompt_number": 22,
       "text": [
        "2"
       ]
      }
     ],
     "prompt_number": 22
    },
    {
     "cell_type": "code",
     "collapsed": false,
     "input": [
      "A.comm_classes()"
     ],
     "language": "python",
     "metadata": {},
     "outputs": [
      {
       "metadata": {},
       "output_type": "pyout",
       "prompt_number": 23,
       "text": [
        "[[0], [1]]"
       ]
      }
     ],
     "prompt_number": 23
    },
    {
     "cell_type": "code",
     "collapsed": false,
     "input": [
      "A.num_rec_classes"
     ],
     "language": "python",
     "metadata": {},
     "outputs": [
      {
       "metadata": {},
       "output_type": "pyout",
       "prompt_number": 24,
       "text": [
        "2"
       ]
      }
     ],
     "prompt_number": 24
    },
    {
     "cell_type": "code",
     "collapsed": false,
     "input": [
      "A.rec_classes()"
     ],
     "language": "python",
     "metadata": {},
     "outputs": [
      {
       "metadata": {},
       "output_type": "pyout",
       "prompt_number": 25,
       "text": [
        "[[0], [1]]"
       ]
      }
     ],
     "prompt_number": 25
    },
    {
     "cell_type": "markdown",
     "metadata": {},
     "source": [
      "Nontrivial example:"
     ]
    },
    {
     "cell_type": "code",
     "collapsed": false,
     "input": [
      "# Taken from www.math.wustl.edu/~feres/Math450Lect04.pdf\n",
      "P = np.zeros((10, 10))\n",
      "P[[0, 0], [0, 2]] = 1./2\n",
      "P[1, 1], P[1, 6] = 1./3, 2./3\n",
      "P[2, 0] = 1\n",
      "P[3, 4] = 1\n",
      "P[[4, 4, 4], [3, 4, 8]] = 1./3\n",
      "P[5, 5] = 1\n",
      "P[6, 6], P[6, 8] = 1./4, 3./4\n",
      "P[[7, 7, 7, 7], [2, 3, 7, 9]] = 1./4\n",
      "P[8, 1] = 1\n",
      "P[[9, 9, 9], [1, 4, 9]] = 1./3"
     ],
     "language": "python",
     "metadata": {},
     "outputs": [],
     "prompt_number": 26
    },
    {
     "cell_type": "code",
     "collapsed": false,
     "input": [
      "np.set_printoptions(precision=3)"
     ],
     "language": "python",
     "metadata": {},
     "outputs": [],
     "prompt_number": 27
    },
    {
     "cell_type": "code",
     "collapsed": false,
     "input": [
      "print P"
     ],
     "language": "python",
     "metadata": {},
     "outputs": [
      {
       "output_type": "stream",
       "stream": "stdout",
       "text": [
        "[[ 0.5    0.     0.5    0.     0.     0.     0.     0.     0.     0.   ]\n",
        " [ 0.     0.333  0.     0.     0.     0.     0.667  0.     0.     0.   ]\n",
        " [ 1.     0.     0.     0.     0.     0.     0.     0.     0.     0.   ]\n",
        " [ 0.     0.     0.     0.     1.     0.     0.     0.     0.     0.   ]\n",
        " [ 0.     0.     0.     0.333  0.333  0.     0.     0.     0.333  0.   ]\n",
        " [ 0.     0.     0.     0.     0.     1.     0.     0.     0.     0.   ]\n",
        " [ 0.     0.     0.     0.     0.     0.     0.25   0.     0.75   0.   ]\n",
        " [ 0.     0.     0.25   0.25   0.     0.     0.     0.25   0.     0.25 ]\n",
        " [ 0.     1.     0.     0.     0.     0.     0.     0.     0.     0.   ]\n",
        " [ 0.     0.333  0.     0.     0.333  0.     0.     0.     0.     0.333]]\n"
       ]
      }
     ],
     "prompt_number": 28
    },
    {
     "cell_type": "code",
     "collapsed": false,
     "input": [
      "P = StochMatrix(P)"
     ],
     "language": "python",
     "metadata": {},
     "outputs": [],
     "prompt_number": 29
    },
    {
     "cell_type": "code",
     "collapsed": false,
     "input": [
      "print P"
     ],
     "language": "python",
     "metadata": {},
     "outputs": [
      {
       "output_type": "stream",
       "stream": "stdout",
       "text": [
        "[[ 0.5    0.     0.5    0.     0.     0.     0.     0.     0.     0.   ]\n",
        " [ 0.     0.333  0.     0.     0.     0.     0.667  0.     0.     0.   ]\n",
        " [ 1.     0.     0.     0.     0.     0.     0.     0.     0.     0.   ]\n",
        " [ 0.     0.     0.     0.     1.     0.     0.     0.     0.     0.   ]\n",
        " [ 0.     0.     0.     0.333  0.333  0.     0.     0.     0.333  0.   ]\n",
        " [ 0.     0.     0.     0.     0.     1.     0.     0.     0.     0.   ]\n",
        " [ 0.     0.     0.     0.     0.     0.     0.25   0.     0.75   0.   ]\n",
        " [ 0.     0.     0.25   0.25   0.     0.     0.     0.25   0.     0.25 ]\n",
        " [ 0.     1.     0.     0.     0.     0.     0.     0.     0.     0.   ]\n",
        " [ 0.     0.333  0.     0.     0.333  0.     0.     0.     0.     0.333]]\n"
       ]
      }
     ],
     "prompt_number": 30
    },
    {
     "cell_type": "markdown",
     "metadata": {},
     "source": [
      "Whether `P` is irreducible"
     ]
    },
    {
     "cell_type": "code",
     "collapsed": false,
     "input": [
      "P.is_irreducible"
     ],
     "language": "python",
     "metadata": {},
     "outputs": [
      {
       "metadata": {},
       "output_type": "pyout",
       "prompt_number": 31,
       "text": [
        "False"
       ]
      }
     ],
     "prompt_number": 31
    },
    {
     "cell_type": "markdown",
     "metadata": {},
     "source": [
      "Communication classes of `P`"
     ]
    },
    {
     "cell_type": "code",
     "collapsed": false,
     "input": [
      "P.num_comm_classes"
     ],
     "language": "python",
     "metadata": {},
     "outputs": [
      {
       "metadata": {},
       "output_type": "pyout",
       "prompt_number": 32,
       "text": [
        "6"
       ]
      }
     ],
     "prompt_number": 32
    },
    {
     "cell_type": "code",
     "collapsed": false,
     "input": [
      "P.comm_classes()"
     ],
     "language": "python",
     "metadata": {},
     "outputs": [
      {
       "metadata": {},
       "output_type": "pyout",
       "prompt_number": 33,
       "text": [
        "[[0, 2], [1, 6, 8], [3, 4], [5], [9], [7]]"
       ]
      }
     ],
     "prompt_number": 33
    },
    {
     "cell_type": "markdown",
     "metadata": {},
     "source": [
      "Recurrent classes of `P`:"
     ]
    },
    {
     "cell_type": "code",
     "collapsed": false,
     "input": [
      "P.num_rec_classes"
     ],
     "language": "python",
     "metadata": {},
     "outputs": [
      {
       "metadata": {},
       "output_type": "pyout",
       "prompt_number": 34,
       "text": [
        "3"
       ]
      }
     ],
     "prompt_number": 34
    },
    {
     "cell_type": "code",
     "collapsed": false,
     "input": [
      "P.rec_classes()"
     ],
     "language": "python",
     "metadata": {},
     "outputs": [
      {
       "metadata": {},
       "output_type": "pyout",
       "prompt_number": 35,
       "text": [
        "[[0, 2], [1, 6, 8], [5]]"
       ]
      }
     ],
     "prompt_number": 35
    },
    {
     "cell_type": "markdown",
     "metadata": {},
     "source": [
      "Recurrent states of `P`"
     ]
    },
    {
     "cell_type": "code",
     "collapsed": false,
     "input": [
      "rec_states = [i for rec_class in P.rec_classes() for i in rec_class]\n",
      "print rec_states"
     ],
     "language": "python",
     "metadata": {},
     "outputs": [
      {
       "output_type": "stream",
       "stream": "stdout",
       "text": [
        "[0, 2, 1, 6, 8, 5]\n"
       ]
      }
     ],
     "prompt_number": 36
    },
    {
     "cell_type": "markdown",
     "metadata": {},
     "source": [
      "Transient states of `P`"
     ]
    },
    {
     "cell_type": "code",
     "collapsed": false,
     "input": [
      "trans_states = [i for i in range(10) if i not in rec_states]\n",
      "print trans_states"
     ],
     "language": "python",
     "metadata": {},
     "outputs": [
      {
       "output_type": "stream",
       "stream": "stdout",
       "text": [
        "[3, 4, 7, 9]\n"
       ]
      }
     ],
     "prompt_number": 37
    },
    {
     "cell_type": "markdown",
     "metadata": {},
     "source": [
      "Canonical form of `P`"
     ]
    },
    {
     "cell_type": "code",
     "collapsed": false,
     "input": [
      "permutation = rec_states + trans_states\n",
      "print permutation"
     ],
     "language": "python",
     "metadata": {},
     "outputs": [
      {
       "output_type": "stream",
       "stream": "stdout",
       "text": [
        "[0, 2, 1, 6, 8, 5, 3, 4, 7, 9]\n"
       ]
      }
     ],
     "prompt_number": 38
    },
    {
     "cell_type": "code",
     "collapsed": false,
     "input": [
      "print P[permutation, :][:, permutation]"
     ],
     "language": "python",
     "metadata": {},
     "outputs": [
      {
       "output_type": "stream",
       "stream": "stdout",
       "text": [
        "[[ 0.5    0.5    0.     0.     0.     0.     0.     0.     0.     0.   ]\n",
        " [ 1.     0.     0.     0.     0.     0.     0.     0.     0.     0.   ]\n",
        " [ 0.     0.     0.333  0.667  0.     0.     0.     0.     0.     0.   ]\n",
        " [ 0.     0.     0.     0.25   0.75   0.     0.     0.     0.     0.   ]\n",
        " [ 0.     0.     1.     0.     0.     0.     0.     0.     0.     0.   ]\n",
        " [ 0.     0.     0.     0.     0.     1.     0.     0.     0.     0.   ]\n",
        " [ 0.     0.     0.     0.     0.     0.     0.     1.     0.     0.   ]\n",
        " [ 0.     0.     0.     0.     0.333  0.     0.333  0.333  0.     0.   ]\n",
        " [ 0.     0.25   0.     0.     0.     0.     0.25   0.     0.25   0.25 ]\n",
        " [ 0.     0.     0.333  0.     0.     0.     0.     0.333  0.     0.333]]\n"
       ]
      }
     ],
     "prompt_number": 39
    },
    {
     "cell_type": "markdown",
     "metadata": {},
     "source": [
      "Decompose `P` into irreducible submatrices"
     ]
    },
    {
     "cell_type": "code",
     "collapsed": false,
     "input": [
      "for i, rec_class in enumerate(P.rec_classes()):\n",
      "    print 'P{0} ='.format(i)\n",
      "    print P[rec_class, :][:, rec_class], '(indices = {0})'.format(rec_class)"
     ],
     "language": "python",
     "metadata": {},
     "outputs": [
      {
       "output_type": "stream",
       "stream": "stdout",
       "text": [
        "P0 =\n",
        "[[ 0.5  0.5]\n",
        " [ 1.   0. ]] (indices = [0, 2])\n",
        "P1 =\n",
        "[[ 0.333  0.667  0.   ]\n",
        " [ 0.     0.25   0.75 ]\n",
        " [ 1.     0.     0.   ]] (indices = [1, 6, 8])\n",
        "P2 =\n",
        "[[ 1.]] (indices = [5])\n"
       ]
      }
     ],
     "prompt_number": 40
    },
    {
     "cell_type": "heading",
     "level": 2,
     "metadata": {},
     "source": [
      "`stationary_dists`"
     ]
    },
    {
     "cell_type": "markdown",
     "metadata": {},
     "source": [
      "Now the routine `stationary_dists`, converting the input matrix `P` to a StochMatrix if not,\n",
      "passes the irrecucible submatrices of `P` to `gth_solve`\n",
      "to obtain all the stationary distributions (as rows of the output array)."
     ]
    },
    {
     "cell_type": "code",
     "collapsed": false,
     "input": [
      "stationary_dists([[1, 0], [0, 1]])"
     ],
     "language": "python",
     "metadata": {},
     "outputs": [
      {
       "metadata": {},
       "output_type": "pyout",
       "prompt_number": 41,
       "text": [
        "array([[ 1.,  0.],\n",
        "       [ 0.,  1.]])"
       ]
      }
     ],
     "prompt_number": 41
    },
    {
     "cell_type": "code",
     "collapsed": false,
     "input": [
      "stationary_dists([[0.4, 0.6], [0.2, 0.8]])"
     ],
     "language": "python",
     "metadata": {},
     "outputs": [
      {
       "metadata": {},
       "output_type": "pyout",
       "prompt_number": 42,
       "text": [
        "array([[ 0.25,  0.75]])"
       ]
      }
     ],
     "prompt_number": 42
    },
    {
     "cell_type": "code",
     "collapsed": false,
     "input": [
      "print P"
     ],
     "language": "python",
     "metadata": {},
     "outputs": [
      {
       "output_type": "stream",
       "stream": "stdout",
       "text": [
        "[[ 0.5    0.     0.5    0.     0.     0.     0.     0.     0.     0.   ]\n",
        " [ 0.     0.333  0.     0.     0.     0.     0.667  0.     0.     0.   ]\n",
        " [ 1.     0.     0.     0.     0.     0.     0.     0.     0.     0.   ]\n",
        " [ 0.     0.     0.     0.     1.     0.     0.     0.     0.     0.   ]\n",
        " [ 0.     0.     0.     0.333  0.333  0.     0.     0.     0.333  0.   ]\n",
        " [ 0.     0.     0.     0.     0.     1.     0.     0.     0.     0.   ]\n",
        " [ 0.     0.     0.     0.     0.     0.     0.25   0.     0.75   0.   ]\n",
        " [ 0.     0.     0.25   0.25   0.     0.     0.     0.25   0.     0.25 ]\n",
        " [ 0.     1.     0.     0.     0.     0.     0.     0.     0.     0.   ]\n",
        " [ 0.     0.333  0.     0.     0.333  0.     0.     0.     0.     0.333]]\n"
       ]
      }
     ],
     "prompt_number": 43
    },
    {
     "cell_type": "code",
     "collapsed": false,
     "input": [
      "dists = stationary_dists(P)\n",
      "print dists"
     ],
     "language": "python",
     "metadata": {},
     "outputs": [
      {
       "output_type": "stream",
       "stream": "stdout",
       "text": [
        "[[ 0.667  0.     0.333  0.     0.     0.     0.     0.     0.     0.   ]\n",
        " [ 0.     0.391  0.     0.     0.     0.     0.348  0.     0.261  0.   ]\n",
        " [ 0.     0.     0.     0.     0.     1.     0.     0.     0.     0.   ]]\n"
       ]
      }
     ],
     "prompt_number": 44
    },
    {
     "cell_type": "code",
     "collapsed": false,
     "input": [
      "print np.dot(dists, P)"
     ],
     "language": "python",
     "metadata": {},
     "outputs": [
      {
       "output_type": "stream",
       "stream": "stdout",
       "text": [
        "[[ 0.667  0.     0.333  0.     0.     0.     0.     0.     0.     0.   ]\n",
        " [ 0.     0.391  0.     0.     0.     0.     0.348  0.     0.261  0.   ]\n",
        " [ 0.     0.     0.     0.     0.     1.     0.     0.     0.     0.   ]]\n"
       ]
      }
     ],
     "prompt_number": 45
    },
    {
     "cell_type": "code",
     "collapsed": false,
     "input": [
      "np.linalg.norm(np.dot(dists, P)-dists, ord=np.inf)"
     ],
     "language": "python",
     "metadata": {},
     "outputs": [
      {
       "metadata": {},
       "output_type": "pyout",
       "prompt_number": 46,
       "text": [
        "5.5511151231257827e-17"
       ]
      }
     ],
     "prompt_number": 46
    },
    {
     "cell_type": "heading",
     "level": 2,
     "metadata": {},
     "source": [
      "Performance"
     ]
    },
    {
     "cell_type": "markdown",
     "metadata": {},
     "source": [
      "Let us compare performance of `stationary_dists`\n",
      "with that of the current `mc_tools` which uses `scipy.linalg.eig`."
     ]
    },
    {
     "cell_type": "code",
     "collapsed": false,
     "input": [
      "import scipy.linalg as la\n",
      "\n",
      "def stationary_dists_by_scipy_eig(P):\n",
      "    eigvals, eigvecs = la.eig(P, left=True, right=False)\n",
      "    index = np.where(abs(eigvals - 1.) < 1e-12)[0]\n",
      "    uniteigvecs = eigvecs[:, index]\n",
      "    return uniteigvecs/np.sum(uniteigvecs, axis=0)"
     ],
     "language": "python",
     "metadata": {},
     "outputs": [],
     "prompt_number": 47
    },
    {
     "cell_type": "code",
     "collapsed": false,
     "input": [
      "stationary_dists_by_scipy_eig(np.array([[0.4, 0.6], [0.2, 0.8]]))"
     ],
     "language": "python",
     "metadata": {},
     "outputs": [
      {
       "metadata": {},
       "output_type": "pyout",
       "prompt_number": 48,
       "text": [
        "array([[ 0.25],\n",
        "       [ 0.75]])"
       ]
      }
     ],
     "prompt_number": 48
    },
    {
     "cell_type": "markdown",
     "metadata": {},
     "source": [
      "Reducible matrix:"
     ]
    },
    {
     "cell_type": "code",
     "collapsed": false,
     "input": [
      "print P"
     ],
     "language": "python",
     "metadata": {},
     "outputs": [
      {
       "output_type": "stream",
       "stream": "stdout",
       "text": [
        "[[ 0.5    0.     0.5    0.     0.     0.     0.     0.     0.     0.   ]\n",
        " [ 0.     0.333  0.     0.     0.     0.     0.667  0.     0.     0.   ]\n",
        " [ 1.     0.     0.     0.     0.     0.     0.     0.     0.     0.   ]\n",
        " [ 0.     0.     0.     0.     1.     0.     0.     0.     0.     0.   ]\n",
        " [ 0.     0.     0.     0.333  0.333  0.     0.     0.     0.333  0.   ]\n",
        " [ 0.     0.     0.     0.     0.     1.     0.     0.     0.     0.   ]\n",
        " [ 0.     0.     0.     0.     0.     0.     0.25   0.     0.75   0.   ]\n",
        " [ 0.     0.     0.25   0.25   0.     0.     0.     0.25   0.     0.25 ]\n",
        " [ 0.     1.     0.     0.     0.     0.     0.     0.     0.     0.   ]\n",
        " [ 0.     0.333  0.     0.     0.333  0.     0.     0.     0.     0.333]]\n"
       ]
      }
     ],
     "prompt_number": 49
    },
    {
     "cell_type": "code",
     "collapsed": false,
     "input": [
      "dists0 = stationary_dists(P)\n",
      "print dists0"
     ],
     "language": "python",
     "metadata": {},
     "outputs": [
      {
       "output_type": "stream",
       "stream": "stdout",
       "text": [
        "[[ 0.667  0.     0.333  0.     0.     0.     0.     0.     0.     0.   ]\n",
        " [ 0.     0.391  0.     0.     0.     0.     0.348  0.     0.261  0.   ]\n",
        " [ 0.     0.     0.     0.     0.     1.     0.     0.     0.     0.   ]]\n"
       ]
      }
     ],
     "prompt_number": 50
    },
    {
     "cell_type": "code",
     "collapsed": false,
     "input": [
      "dists1 = stationary_dists_by_scipy_eig(P).T\n",
      "print dists1"
     ],
     "language": "python",
     "metadata": {},
     "outputs": [
      {
       "output_type": "stream",
       "stream": "stdout",
       "text": [
        "[[ 0.667+0.j  0.000+0.j  0.333+0.j  0.000+0.j  0.000+0.j  0.000+0.j\n",
        "   0.000+0.j  0.000+0.j  0.000+0.j  0.000+0.j]\n",
        " [-0.000-0.j  0.391-0.j -0.000-0.j -0.000-0.j -0.000-0.j -0.000-0.j\n",
        "   0.348-0.j -0.000-0.j  0.261-0.j -0.000-0.j]\n",
        " [ 0.000+0.j  0.000+0.j  0.000+0.j  0.000+0.j  0.000+0.j  1.000+0.j\n",
        "   0.000+0.j  0.000+0.j  0.000+0.j  0.000+0.j]]\n"
       ]
      }
     ],
     "prompt_number": 51
    },
    {
     "cell_type": "code",
     "collapsed": false,
     "input": [
      "np.linalg.norm(dists0-dists1, ord=np.inf)"
     ],
     "language": "python",
     "metadata": {},
     "outputs": [
      {
       "metadata": {},
       "output_type": "pyout",
       "prompt_number": 52,
       "text": [
        "3.3306690738754696e-16"
       ]
      }
     ],
     "prompt_number": 52
    },
    {
     "cell_type": "code",
     "collapsed": false,
     "input": [
      "np.linalg.norm(np.dot(dists0, P)-dists0, ord=np.inf)"
     ],
     "language": "python",
     "metadata": {},
     "outputs": [
      {
       "metadata": {},
       "output_type": "pyout",
       "prompt_number": 53,
       "text": [
        "5.5511151231257827e-17"
       ]
      }
     ],
     "prompt_number": 53
    },
    {
     "cell_type": "code",
     "collapsed": false,
     "input": [
      "np.linalg.norm(np.dot(dists1, P)-dists1, ord=np.inf)"
     ],
     "language": "python",
     "metadata": {},
     "outputs": [
      {
       "metadata": {},
       "output_type": "pyout",
       "prompt_number": 54,
       "text": [
        "4.4408920985006262e-16"
       ]
      }
     ],
     "prompt_number": 54
    },
    {
     "cell_type": "code",
     "collapsed": false,
     "input": [
      "%timeit stationary_dists(P)\n",
      "%timeit stationary_dists_by_scipy_eig(P)"
     ],
     "language": "python",
     "metadata": {},
     "outputs": [
      {
       "output_type": "stream",
       "stream": "stdout",
       "text": [
        "1000 loops, best of 3: 279 \u00b5s per loop\n",
        "10000 loops, best of 3: 147 \u00b5s per loop"
       ]
      },
      {
       "output_type": "stream",
       "stream": "stdout",
       "text": [
        "\n"
       ]
      }
     ],
     "prompt_number": 55
    },
    {
     "cell_type": "markdown",
     "metadata": {},
     "source": [
      "Larger matrices:"
     ]
    },
    {
     "cell_type": "code",
     "collapsed": false,
     "input": [
      "sizes = [10, 100, 1000]\n",
      "for n in sizes:\n",
      "    print 'identity({0})'.format(n)\n",
      "    %timeit stationary_dists(np.identity(n))\n",
      "    %timeit stationary_dists_by_scipy_eig(np.identity(n))"
     ],
     "language": "python",
     "metadata": {},
     "outputs": [
      {
       "output_type": "stream",
       "stream": "stdout",
       "text": [
        "identity(10)\n",
        "1000 loops, best of 3: 975 \u00b5s per loop"
       ]
      },
      {
       "output_type": "stream",
       "stream": "stdout",
       "text": [
        "\n",
        "10000 loops, best of 3: 103 \u00b5s per loop"
       ]
      },
      {
       "output_type": "stream",
       "stream": "stdout",
       "text": [
        "\n",
        "identity(100)\n",
        "100 loops, best of 3: 5.8 ms per loop"
       ]
      },
      {
       "output_type": "stream",
       "stream": "stdout",
       "text": [
        "\n",
        "1000 loops, best of 3: 746 \u00b5s per loop"
       ]
      },
      {
       "output_type": "stream",
       "stream": "stdout",
       "text": [
        "\n",
        "identity(1000)\n",
        "10 loops, best of 3: 74.1 ms per loop"
       ]
      },
      {
       "output_type": "stream",
       "stream": "stdout",
       "text": [
        "\n",
        "1 loops, best of 3: 409 ms per loop"
       ]
      },
      {
       "output_type": "stream",
       "stream": "stdout",
       "text": [
        "\n"
       ]
      }
     ],
     "prompt_number": 56
    },
    {
     "cell_type": "markdown",
     "metadata": {},
     "source": [
      "Irreducible matrices:"
     ]
    },
    {
     "cell_type": "code",
     "collapsed": false,
     "input": [
      "sizes = [10, 50, 100, 1000]\n",
      "rand_matrices = []\n",
      "\n",
      "for n in sizes:\n",
      "    Q = np.random.rand(n, n)\n",
      "    Q /= np.sum(Q, axis=1, keepdims=True)\n",
      "    rand_matrices.append(Q)"
     ],
     "language": "python",
     "metadata": {},
     "outputs": [],
     "prompt_number": 57
    },
    {
     "cell_type": "code",
     "collapsed": false,
     "input": [
      "for i, Q in enumerate(rand_matrices):\n",
      "    dists0 = stationary_dists(Q)\n",
      "    dists1 = stationary_dists_by_scipy_eig(Q).T\n",
      "    print 'rand_matrices[{0}] ({1} x {2})'.format(i, Q.shape[0], Q.shape[1])\n",
      "    for dists in [dists0, dists1]:\n",
      "        print np.linalg.norm(np.dot(dists, Q)-dists, ord=np.inf)"
     ],
     "language": "python",
     "metadata": {},
     "outputs": [
      {
       "output_type": "stream",
       "stream": "stdout",
       "text": [
        "rand_matrices[0] (10 x 10)\n",
        "1.66533453694e-16\n",
        "5.6898930012e-16\n",
        "rand_matrices[1] (50 x 50)\n",
        "2.56739074445e-16\n",
        "4.51028103754e-16\n",
        "rand_matrices[2] (100 x 100)\n",
        "3.83373888191e-16\n",
        "5.91540705308e-16\n",
        "rand_matrices[3] (1000 x 1000)"
       ]
      },
      {
       "output_type": "stream",
       "stream": "stdout",
       "text": [
        "\n",
        "8.66385956033e-16\n",
        "1.57675521945e-15\n"
       ]
      }
     ],
     "prompt_number": 58
    },
    {
     "cell_type": "code",
     "collapsed": false,
     "input": [
      "for i, Q in enumerate(rand_matrices):\n",
      "    print 'rand_matrices[{0}] ({1} x {2})'.format(i, Q.shape[0], Q.shape[1])\n",
      "    %timeit gth_solve(Q)\n",
      "    %timeit stationary_dists(Q)\n",
      "    %timeit stationary_dists_by_scipy_eig(Q)"
     ],
     "language": "python",
     "metadata": {},
     "outputs": [
      {
       "output_type": "stream",
       "stream": "stdout",
       "text": [
        "rand_matrices[0] (10 x 10)\n",
        "1000 loops, best of 3: 400 \u00b5s per loop"
       ]
      },
      {
       "output_type": "stream",
       "stream": "stdout",
       "text": [
        "\n",
        "1000 loops, best of 3: 833 \u00b5s per loop"
       ]
      },
      {
       "output_type": "stream",
       "stream": "stdout",
       "text": [
        "\n",
        "10000 loops, best of 3: 199 \u00b5s per loop"
       ]
      },
      {
       "output_type": "stream",
       "stream": "stdout",
       "text": [
        "\n",
        "rand_matrices[1] (50 x 50)\n",
        "100 loops, best of 3: 3.21 ms per loop"
       ]
      },
      {
       "output_type": "stream",
       "stream": "stdout",
       "text": [
        "\n",
        "100 loops, best of 3: 3.84 ms per loop"
       ]
      },
      {
       "output_type": "stream",
       "stream": "stdout",
       "text": [
        "\n",
        "1000 loops, best of 3: 1.86 ms per loop"
       ]
      },
      {
       "output_type": "stream",
       "stream": "stdout",
       "text": [
        "\n",
        "rand_matrices[2] (100 x 100)\n",
        "100 loops, best of 3: 9.71 ms per loop"
       ]
      },
      {
       "output_type": "stream",
       "stream": "stdout",
       "text": [
        "\n",
        "100 loops, best of 3: 10.7 ms per loop"
       ]
      },
      {
       "output_type": "stream",
       "stream": "stdout",
       "text": [
        "\n",
        "100 loops, best of 3: 10.5 ms per loop"
       ]
      },
      {
       "output_type": "stream",
       "stream": "stdout",
       "text": [
        "\n",
        "rand_matrices[3] (1000 x 1000)\n",
        "1 loops, best of 3: 2.45 s per loop"
       ]
      },
      {
       "output_type": "stream",
       "stream": "stdout",
       "text": [
        "\n",
        "1 loops, best of 3: 2.51 s per loop"
       ]
      },
      {
       "output_type": "stream",
       "stream": "stdout",
       "text": [
        "\n",
        "1 loops, best of 3: 3.32 s per loop"
       ]
      },
      {
       "output_type": "stream",
       "stream": "stdout",
       "text": [
        "\n"
       ]
      }
     ],
     "prompt_number": 59
    },
    {
     "cell_type": "markdown",
     "metadata": {},
     "source": [
      "`stationary_dists` seems to perform better than `scipy.linalg.eig` for large matrices."
     ]
    },
    {
     "cell_type": "code",
     "collapsed": false,
     "input": [
      "import platform\n",
      "platform.platform()"
     ],
     "language": "python",
     "metadata": {},
     "outputs": [
      {
       "metadata": {},
       "output_type": "pyout",
       "prompt_number": 60,
       "text": [
        "'Darwin-13.3.0-x86_64-i386-64bit'"
       ]
      }
     ],
     "prompt_number": 60
    },
    {
     "cell_type": "code",
     "collapsed": false,
     "input": [
      "import sys\n",
      "print sys.version"
     ],
     "language": "python",
     "metadata": {},
     "outputs": [
      {
       "output_type": "stream",
       "stream": "stdout",
       "text": [
        "2.7.8 (default, Jul  2 2014, 10:14:46) \n",
        "[GCC 4.2.1 Compatible Apple LLVM 5.1 (clang-503.0.40)]\n"
       ]
      }
     ],
     "prompt_number": 61
    },
    {
     "cell_type": "code",
     "collapsed": false,
     "input": [
      "np.__version__"
     ],
     "language": "python",
     "metadata": {},
     "outputs": [
      {
       "metadata": {},
       "output_type": "pyout",
       "prompt_number": 62,
       "text": [
        "'1.8.1'"
       ]
      }
     ],
     "prompt_number": 62
    },
    {
     "cell_type": "code",
     "collapsed": false,
     "input": [
      "import scipy\n",
      "scipy.__version__"
     ],
     "language": "python",
     "metadata": {},
     "outputs": [
      {
       "metadata": {},
       "output_type": "pyout",
       "prompt_number": 63,
       "text": [
        "'0.14.0'"
       ]
      }
     ],
     "prompt_number": 63
    },
    {
     "cell_type": "code",
     "collapsed": false,
     "input": [],
     "language": "python",
     "metadata": {},
     "outputs": [],
     "prompt_number": 63
    }
   ],
   "metadata": {}
  }
 ]
}