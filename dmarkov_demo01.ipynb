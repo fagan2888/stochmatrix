{
 "metadata": {
  "name": "",
  "signature": "sha256:ed5b431de9c371e0e83157486a83395ad607ce589c176f5dd3486ca248fe8e9d"
 },
 "nbformat": 3,
 "nbformat_minor": 0,
 "worksheets": [
  {
   "cells": [
    {
     "cell_type": "heading",
     "level": 1,
     "metadata": {},
     "source": [
      "DMarkov: Illustration"
     ]
    },
    {
     "cell_type": "code",
     "collapsed": false,
     "input": [
      "from __future__ import division\n",
      "import numpy as np\n",
      "from mc_tools2 import DMarkov"
     ],
     "language": "python",
     "metadata": {},
     "outputs": [],
     "prompt_number": 1
    },
    {
     "cell_type": "heading",
     "level": 2,
     "metadata": {},
     "source": [
      "Example: Non irreducible case"
     ]
    },
    {
     "cell_type": "code",
     "collapsed": false,
     "input": [
      "# Taken from www.math.wustl.edu/~feres/Math450Lect04.pdf\n",
      "P = np.zeros((10, 10))\n",
      "P[[0, 0], [0, 2]] = 1./2\n",
      "P[1, 1], P[1, 6] = 1./3, 2./3\n",
      "P[2, 0] = 1\n",
      "P[3, 4] = 1\n",
      "P[[4, 4, 4], [3, 4, 8]] = 1./3\n",
      "P[5, 5] = 1\n",
      "P[6, 6], P[6, 8] = 1./4, 3./4\n",
      "P[[7, 7, 7, 7], [2, 3, 7, 9]] = 1./4\n",
      "P[8, 1] = 1\n",
      "P[[9, 9, 9], [1, 4, 9]] = 1./3"
     ],
     "language": "python",
     "metadata": {},
     "outputs": [],
     "prompt_number": 2
    },
    {
     "cell_type": "code",
     "collapsed": false,
     "input": [
      "np.set_printoptions(precision=3)"
     ],
     "language": "python",
     "metadata": {},
     "outputs": [],
     "prompt_number": 3
    },
    {
     "cell_type": "code",
     "collapsed": false,
     "input": [
      "print P"
     ],
     "language": "python",
     "metadata": {},
     "outputs": [
      {
       "output_type": "stream",
       "stream": "stdout",
       "text": [
        "[[ 0.5    0.     0.5    0.     0.     0.     0.     0.     0.     0.   ]\n",
        " [ 0.     0.333  0.     0.     0.     0.     0.667  0.     0.     0.   ]\n",
        " [ 1.     0.     0.     0.     0.     0.     0.     0.     0.     0.   ]\n",
        " [ 0.     0.     0.     0.     1.     0.     0.     0.     0.     0.   ]\n",
        " [ 0.     0.     0.     0.333  0.333  0.     0.     0.     0.333  0.   ]\n",
        " [ 0.     0.     0.     0.     0.     1.     0.     0.     0.     0.   ]\n",
        " [ 0.     0.     0.     0.     0.     0.     0.25   0.     0.75   0.   ]\n",
        " [ 0.     0.     0.25   0.25   0.     0.     0.     0.25   0.     0.25 ]\n",
        " [ 0.     1.     0.     0.     0.     0.     0.     0.     0.     0.   ]\n",
        " [ 0.     0.333  0.     0.     0.333  0.     0.     0.     0.     0.333]]\n"
       ]
      }
     ],
     "prompt_number": 4
    },
    {
     "cell_type": "code",
     "collapsed": false,
     "input": [
      "mc = DMarkov(P)"
     ],
     "language": "python",
     "metadata": {},
     "outputs": [],
     "prompt_number": 5
    },
    {
     "cell_type": "code",
     "collapsed": false,
     "input": [
      "print mc"
     ],
     "language": "python",
     "metadata": {},
     "outputs": [
      {
       "output_type": "stream",
       "stream": "stdout",
       "text": [
        "<bound method DMarkov.__repr__ of Markov process with transition matrix \n",
        "P = \n",
        "[[ 0.5    0.     0.5    0.     0.     0.     0.     0.     0.     0.   ]\n",
        " [ 0.     0.333  0.     0.     0.     0.     0.667  0.     0.     0.   ]\n",
        " [ 1.     0.     0.     0.     0.     0.     0.     0.     0.     0.   ]\n",
        " [ 0.     0.     0.     0.     1.     0.     0.     0.     0.     0.   ]\n",
        " [ 0.     0.     0.     0.333  0.333  0.     0.     0.     0.333  0.   ]\n",
        " [ 0.     0.     0.     0.     0.     1.     0.     0.     0.     0.   ]\n",
        " [ 0.     0.     0.     0.     0.     0.     0.25   0.     0.75   0.   ]\n",
        " [ 0.     0.     0.25   0.25   0.     0.     0.     0.25   0.     0.25 ]\n",
        " [ 0.     1.     0.     0.     0.     0.     0.     0.     0.     0.   ]\n",
        " [ 0.     0.333  0.     0.     0.333  0.     0.     0.     0.     0.333]]>\n"
       ]
      }
     ],
     "prompt_number": 6
    },
    {
     "cell_type": "heading",
     "level": 2,
     "metadata": {},
     "source": [
      "Simulation"
     ]
    },
    {
     "cell_type": "markdown",
     "metadata": {},
     "source": [
      "Let us perform a simulation with initial state `0`:"
     ]
    },
    {
     "cell_type": "code",
     "collapsed": false,
     "input": [
      "X0 = mc.simulate(init=0)"
     ],
     "language": "python",
     "metadata": {},
     "outputs": [],
     "prompt_number": 7
    },
    {
     "cell_type": "code",
     "collapsed": false,
     "input": [
      "bins = list(range(11))\n",
      "\n",
      "hist, bin_edges = np.histogram(X0, bins=bins)\n",
      "x0 = hist/len(X0)\n",
      "print x0"
     ],
     "language": "python",
     "metadata": {},
     "outputs": [
      {
       "output_type": "stream",
       "stream": "stdout",
       "text": [
        "[ 0.653  0.     0.347  0.     0.     0.     0.     0.     0.     0.   ]\n"
       ]
      }
     ],
     "prompt_number": 8
    },
    {
     "cell_type": "markdown",
     "metadata": {},
     "source": [
      "Let us write a function:"
     ]
    },
    {
     "cell_type": "code",
     "collapsed": false,
     "input": [
      "def empirical_dist(init):\n",
      "    X = mc.simulate(init=init)\n",
      "    hist, bin_edges = np.histogram(X, bins=bins)\n",
      "    x= hist/len(X)\n",
      "    return x"
     ],
     "language": "python",
     "metadata": {},
     "outputs": [],
     "prompt_number": 9
    },
    {
     "cell_type": "markdown",
     "metadata": {},
     "source": [
      "The set of states `[0, 2]` seems to be closed:"
     ]
    },
    {
     "cell_type": "code",
     "collapsed": false,
     "input": [
      "print empirical_dist(2)"
     ],
     "language": "python",
     "metadata": {},
     "outputs": [
      {
       "output_type": "stream",
       "stream": "stdout",
       "text": [
        "[ 0.669  0.     0.331  0.     0.     0.     0.     0.     0.     0.   ]\n"
       ]
      }
     ],
     "prompt_number": 10
    },
    {
     "cell_type": "markdown",
     "metadata": {},
     "source": [
      "The set of states `[1, 6, 8]` seems to be closed:"
     ]
    },
    {
     "cell_type": "code",
     "collapsed": false,
     "input": [
      "print empirical_dist(1)"
     ],
     "language": "python",
     "metadata": {},
     "outputs": [
      {
       "output_type": "stream",
       "stream": "stdout",
       "text": [
        "[ 0.     0.406  0.     0.     0.     0.     0.332  0.     0.262  0.   ]\n"
       ]
      }
     ],
     "prompt_number": 11
    },
    {
     "cell_type": "code",
     "collapsed": false,
     "input": [
      "print empirical_dist(6)"
     ],
     "language": "python",
     "metadata": {},
     "outputs": [
      {
       "output_type": "stream",
       "stream": "stdout",
       "text": [
        "[ 0.     0.387  0.     0.     0.     0.     0.343  0.     0.27   0.   ]\n"
       ]
      }
     ],
     "prompt_number": 12
    },
    {
     "cell_type": "code",
     "collapsed": false,
     "input": [
      "print empirical_dist(8)"
     ],
     "language": "python",
     "metadata": {},
     "outputs": [
      {
       "output_type": "stream",
       "stream": "stdout",
       "text": [
        "[ 0.     0.394  0.     0.     0.     0.     0.341  0.     0.265  0.   ]\n"
       ]
      }
     ],
     "prompt_number": 13
    },
    {
     "cell_type": "markdown",
     "metadata": {},
     "source": [
      "`3` and `4` seem to communicate with each other and eventually get absorbed into `[1, 6, 8]`:"
     ]
    },
    {
     "cell_type": "code",
     "collapsed": false,
     "input": [
      "print empirical_dist(3)"
     ],
     "language": "python",
     "metadata": {},
     "outputs": [
      {
       "output_type": "stream",
       "stream": "stdout",
       "text": [
        "[ 0.     0.388  0.     0.001  0.002  0.     0.349  0.     0.26   0.   ]\n"
       ]
      }
     ],
     "prompt_number": 14
    },
    {
     "cell_type": "code",
     "collapsed": false,
     "input": [
      "print empirical_dist(4)"
     ],
     "language": "python",
     "metadata": {},
     "outputs": [
      {
       "output_type": "stream",
       "stream": "stdout",
       "text": [
        "[ 0.     0.388  0.     0.     0.001  0.     0.352  0.     0.259  0.   ]\n"
       ]
      }
     ],
     "prompt_number": 15
    },
    {
     "cell_type": "markdown",
     "metadata": {},
     "source": [
      "`5` is an absorbind state:"
     ]
    },
    {
     "cell_type": "code",
     "collapsed": false,
     "input": [
      "print empirical_dist(5)"
     ],
     "language": "python",
     "metadata": {},
     "outputs": [
      {
       "output_type": "stream",
       "stream": "stdout",
       "text": [
        "[ 0.  0.  0.  0.  0.  1.  0.  0.  0.  0.]\n"
       ]
      }
     ],
     "prompt_number": 16
    },
    {
     "cell_type": "markdown",
     "metadata": {},
     "source": [
      "From `9`, the path seems to be absorbed into `[1, 6, 8]`:"
     ]
    },
    {
     "cell_type": "code",
     "collapsed": false,
     "input": [
      "print empirical_dist(9)"
     ],
     "language": "python",
     "metadata": {},
     "outputs": [
      {
       "output_type": "stream",
       "stream": "stdout",
       "text": [
        "[ 0.     0.382  0.     0.003  0.008  0.     0.339  0.     0.267  0.001]\n"
       ]
      }
     ],
     "prompt_number": 17
    },
    {
     "cell_type": "markdown",
     "metadata": {},
     "source": [
      "From `7`, the path gets absorbed into either `[0, 2]` or `[1, 6, 8]`, depending on the realization:"
     ]
    },
    {
     "cell_type": "code",
     "collapsed": false,
     "input": [
      "print empirical_dist(7)"
     ],
     "language": "python",
     "metadata": {},
     "outputs": [
      {
       "output_type": "stream",
       "stream": "stdout",
       "text": [
        "[ 0.     0.4    0.     0.     0.     0.     0.339  0.001  0.258  0.002]\n"
       ]
      }
     ],
     "prompt_number": 18
    },
    {
     "cell_type": "code",
     "collapsed": false,
     "input": [
      "print empirical_dist(7)"
     ],
     "language": "python",
     "metadata": {},
     "outputs": [
      {
       "output_type": "stream",
       "stream": "stdout",
       "text": [
        "[ 0.659  0.     0.339  0.     0.     0.     0.     0.002  0.     0.   ]\n"
       ]
      }
     ],
     "prompt_number": 19
    },
    {
     "cell_type": "code",
     "collapsed": false,
     "input": [
      "N=50\n",
      "print np.mean([empirical_dist(7) for i in range(N)], axis=0)"
     ],
     "language": "python",
     "metadata": {},
     "outputs": [
      {
       "output_type": "stream",
       "stream": "stdout",
       "text": [
        "[ 0.281  0.224  0.139  0.     0.001  0.     0.202  0.001  0.151  0.001]\n"
       ]
      }
     ],
     "prompt_number": 20
    },
    {
     "cell_type": "heading",
     "level": 2,
     "metadata": {},
     "source": [
      "Classification of states"
     ]
    },
    {
     "cell_type": "markdown",
     "metadata": {},
     "source": [
      "As expected, the Markov chain `mc` is reducible:"
     ]
    },
    {
     "cell_type": "code",
     "collapsed": false,
     "input": [
      "mc.is_irreducible"
     ],
     "language": "python",
     "metadata": {},
     "outputs": [
      {
       "metadata": {},
       "output_type": "pyout",
       "prompt_number": 21,
       "text": [
        "False"
       ]
      }
     ],
     "prompt_number": 21
    },
    {
     "cell_type": "markdown",
     "metadata": {},
     "source": [
      "Communication classes of `mc`:"
     ]
    },
    {
     "cell_type": "code",
     "collapsed": false,
     "input": [
      "mc.num_comm_classes"
     ],
     "language": "python",
     "metadata": {},
     "outputs": [
      {
       "metadata": {},
       "output_type": "pyout",
       "prompt_number": 22,
       "text": [
        "6"
       ]
      }
     ],
     "prompt_number": 22
    },
    {
     "cell_type": "code",
     "collapsed": false,
     "input": [
      "mc.comm_classes"
     ],
     "language": "python",
     "metadata": {},
     "outputs": [
      {
       "metadata": {},
       "output_type": "pyout",
       "prompt_number": 23,
       "text": [
        "[[0, 2], [1, 6, 8], [3, 4], [5], [9], [7]]"
       ]
      }
     ],
     "prompt_number": 23
    },
    {
     "cell_type": "markdown",
     "metadata": {},
     "source": [
      "Recurrent classes of `mc`:"
     ]
    },
    {
     "cell_type": "code",
     "collapsed": false,
     "input": [
      "mc.num_rec_classes"
     ],
     "language": "python",
     "metadata": {},
     "outputs": [
      {
       "metadata": {},
       "output_type": "pyout",
       "prompt_number": 24,
       "text": [
        "3"
       ]
      }
     ],
     "prompt_number": 24
    },
    {
     "cell_type": "code",
     "collapsed": false,
     "input": [
      "mc.rec_classes"
     ],
     "language": "python",
     "metadata": {},
     "outputs": [
      {
       "metadata": {},
       "output_type": "pyout",
       "prompt_number": 25,
       "text": [
        "[[0, 2], [1, 6, 8], [5]]"
       ]
      }
     ],
     "prompt_number": 25
    },
    {
     "cell_type": "markdown",
     "metadata": {},
     "source": [
      "Recurrent states of `mc`:"
     ]
    },
    {
     "cell_type": "code",
     "collapsed": false,
     "input": [
      "rec_states = [i for rec_class in mc.rec_classes for i in rec_class]\n",
      "print rec_states"
     ],
     "language": "python",
     "metadata": {},
     "outputs": [
      {
       "output_type": "stream",
       "stream": "stdout",
       "text": [
        "[0, 2, 1, 6, 8, 5]\n"
       ]
      }
     ],
     "prompt_number": 26
    },
    {
     "cell_type": "markdown",
     "metadata": {},
     "source": [
      "Transient states of `mc`:"
     ]
    },
    {
     "cell_type": "code",
     "collapsed": false,
     "input": [
      "trans_states = [i for i in range(10) if i not in rec_states]\n",
      "print trans_states"
     ],
     "language": "python",
     "metadata": {},
     "outputs": [
      {
       "output_type": "stream",
       "stream": "stdout",
       "text": [
        "[3, 4, 7, 9]\n"
       ]
      }
     ],
     "prompt_number": 27
    },
    {
     "cell_type": "markdown",
     "metadata": {},
     "source": [
      "Canonical form of `P`:"
     ]
    },
    {
     "cell_type": "code",
     "collapsed": false,
     "input": [
      "permutation = rec_states + trans_states\n",
      "print permutation"
     ],
     "language": "python",
     "metadata": {},
     "outputs": [
      {
       "output_type": "stream",
       "stream": "stdout",
       "text": [
        "[0, 2, 1, 6, 8, 5, 3, 4, 7, 9]\n"
       ]
      }
     ],
     "prompt_number": 28
    },
    {
     "cell_type": "code",
     "collapsed": false,
     "input": [
      "print P[permutation, :][:, permutation]"
     ],
     "language": "python",
     "metadata": {},
     "outputs": [
      {
       "output_type": "stream",
       "stream": "stdout",
       "text": [
        "[[ 0.5    0.5    0.     0.     0.     0.     0.     0.     0.     0.   ]\n",
        " [ 1.     0.     0.     0.     0.     0.     0.     0.     0.     0.   ]\n",
        " [ 0.     0.     0.333  0.667  0.     0.     0.     0.     0.     0.   ]\n",
        " [ 0.     0.     0.     0.25   0.75   0.     0.     0.     0.     0.   ]\n",
        " [ 0.     0.     1.     0.     0.     0.     0.     0.     0.     0.   ]\n",
        " [ 0.     0.     0.     0.     0.     1.     0.     0.     0.     0.   ]\n",
        " [ 0.     0.     0.     0.     0.     0.     0.     1.     0.     0.   ]\n",
        " [ 0.     0.     0.     0.     0.333  0.     0.333  0.333  0.     0.   ]\n",
        " [ 0.     0.25   0.     0.     0.     0.     0.25   0.     0.25   0.25 ]\n",
        " [ 0.     0.     0.333  0.     0.     0.     0.     0.333  0.     0.333]]\n"
       ]
      }
     ],
     "prompt_number": 29
    },
    {
     "cell_type": "markdown",
     "metadata": {},
     "source": [
      "Decompose `P` into irreducible submatrices:"
     ]
    },
    {
     "cell_type": "code",
     "collapsed": false,
     "input": [
      "for i, rec_class in enumerate(mc.rec_classes):\n",
      "    print 'P{0} ='.format(i)\n",
      "    print P[rec_class, :][:, rec_class]"
     ],
     "language": "python",
     "metadata": {},
     "outputs": [
      {
       "output_type": "stream",
       "stream": "stdout",
       "text": [
        "P0 =\n",
        "[[ 0.5  0.5]\n",
        " [ 1.   0. ]]\n",
        "P1 =\n",
        "[[ 0.333  0.667  0.   ]\n",
        " [ 0.     0.25   0.75 ]\n",
        " [ 1.     0.     0.   ]]\n",
        "P2 =\n",
        "[[ 1.]]\n"
       ]
      }
     ],
     "prompt_number": 30
    },
    {
     "cell_type": "heading",
     "level": 2,
     "metadata": {},
     "source": [
      "Stationary distributions"
     ]
    },
    {
     "cell_type": "code",
     "collapsed": false,
     "input": [
      "print mc.stationary_dists"
     ],
     "language": "python",
     "metadata": {},
     "outputs": [
      {
       "output_type": "stream",
       "stream": "stdout",
       "text": [
        "None\n"
       ]
      }
     ],
     "prompt_number": 31
    },
    {
     "cell_type": "markdown",
     "metadata": {},
     "source": [
      "The Markov chain `mc` above has three stationary distributions,\n",
      "one for each of the three recurrent classes:"
     ]
    },
    {
     "cell_type": "code",
     "collapsed": false,
     "input": [
      "vecs = mc.compute_stationary()\n",
      "print vecs"
     ],
     "language": "python",
     "metadata": {},
     "outputs": [
      {
       "output_type": "stream",
       "stream": "stdout",
       "text": [
        "[[ 0.667  0.     0.333  0.     0.     0.     0.     0.     0.     0.   ]\n",
        " [ 0.     0.391  0.     0.     0.     0.     0.348  0.     0.261  0.   ]\n",
        " [ 0.     0.     0.     0.     0.     1.     0.     0.     0.     0.   ]]\n"
       ]
      }
     ],
     "prompt_number": 32
    },
    {
     "cell_type": "code",
     "collapsed": false,
     "input": [
      "print mc.stationary_dists"
     ],
     "language": "python",
     "metadata": {},
     "outputs": [
      {
       "output_type": "stream",
       "stream": "stdout",
       "text": [
        "[[ 0.667  0.     0.333  0.     0.     0.     0.     0.     0.     0.   ]\n",
        " [ 0.     0.391  0.     0.     0.     0.     0.348  0.     0.261  0.   ]\n",
        " [ 0.     0.     0.     0.     0.     1.     0.     0.     0.     0.   ]]\n"
       ]
      }
     ],
     "prompt_number": 33
    },
    {
     "cell_type": "code",
     "collapsed": false,
     "input": [
      "print np.dot(vecs, P)"
     ],
     "language": "python",
     "metadata": {},
     "outputs": [
      {
       "output_type": "stream",
       "stream": "stdout",
       "text": [
        "[[ 0.667  0.     0.333  0.     0.     0.     0.     0.     0.     0.   ]\n",
        " [ 0.     0.391  0.     0.     0.     0.     0.348  0.     0.261  0.   ]\n",
        " [ 0.     0.     0.     0.     0.     1.     0.     0.     0.     0.   ]]\n"
       ]
      }
     ],
     "prompt_number": 34
    },
    {
     "cell_type": "code",
     "collapsed": false,
     "input": [],
     "language": "python",
     "metadata": {},
     "outputs": [],
     "prompt_number": 34
    }
   ],
   "metadata": {}
  }
 ]
}